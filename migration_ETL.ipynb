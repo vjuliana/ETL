{
 "metadata": {
  "language_info": {
   "codemirror_mode": {
    "name": "ipython",
    "version": 3
   },
   "file_extension": ".py",
   "mimetype": "text/x-python",
   "name": "python",
   "nbconvert_exporter": "python",
   "pygments_lexer": "ipython3",
   "version": "3.6.10-final"
  },
  "orig_nbformat": 2,
  "kernelspec": {
   "name": "python3",
   "display_name": "Python 3",
   "language": "python"
  }
 },
 "nbformat": 4,
 "nbformat_minor": 2,
 "cells": [
  {
   "source": [
    "# Dependencies and read data"
   ],
   "cell_type": "markdown",
   "metadata": {}
  },
  {
   "cell_type": "code",
   "execution_count": 46,
   "metadata": {},
   "outputs": [
    {
     "output_type": "execute_result",
     "data": {
      "text/plain": [
       "  MEASURE:Migration type SEX_ABS:Sex    AGE:Age ASGS_2011:Region  \\\n",
       "0          1:NOM arrival     1:Males  A04:0 - 4      0:Australia   \n",
       "1          1:NOM arrival     1:Males  A04:0 - 4      0:Australia   \n",
       "2          1:NOM arrival     1:Males  A04:0 - 4      0:Australia   \n",
       "3          1:NOM arrival     1:Males  A04:0 - 4      0:Australia   \n",
       "4          1:NOM arrival     1:Males  A04:0 - 4      0:Australia   \n",
       "\n",
       "  FREQUENCY:Frequency  TIME:Time  Value  Flag Codes:Flags  \n",
       "0            A:Annual  2004:2004  10080               NaN  \n",
       "1            A:Annual  2005:2005  10680               NaN  \n",
       "2            A:Annual  2006:2006  11840               NaN  \n",
       "3            A:Annual  2007:2007  13250               NaN  \n",
       "4            A:Annual  2008:2008  15470               NaN  "
      ],
      "text/html": "<div>\n<style scoped>\n    .dataframe tbody tr th:only-of-type {\n        vertical-align: middle;\n    }\n\n    .dataframe tbody tr th {\n        vertical-align: top;\n    }\n\n    .dataframe thead th {\n        text-align: right;\n    }\n</style>\n<table border=\"1\" class=\"dataframe\">\n  <thead>\n    <tr style=\"text-align: right;\">\n      <th></th>\n      <th>MEASURE:Migration type</th>\n      <th>SEX_ABS:Sex</th>\n      <th>AGE:Age</th>\n      <th>ASGS_2011:Region</th>\n      <th>FREQUENCY:Frequency</th>\n      <th>TIME:Time</th>\n      <th>Value</th>\n      <th>Flag Codes:Flags</th>\n    </tr>\n  </thead>\n  <tbody>\n    <tr>\n      <th>0</th>\n      <td>1:NOM arrival</td>\n      <td>1:Males</td>\n      <td>A04:0 - 4</td>\n      <td>0:Australia</td>\n      <td>A:Annual</td>\n      <td>2004:2004</td>\n      <td>10080</td>\n      <td>NaN</td>\n    </tr>\n    <tr>\n      <th>1</th>\n      <td>1:NOM arrival</td>\n      <td>1:Males</td>\n      <td>A04:0 - 4</td>\n      <td>0:Australia</td>\n      <td>A:Annual</td>\n      <td>2005:2005</td>\n      <td>10680</td>\n      <td>NaN</td>\n    </tr>\n    <tr>\n      <th>2</th>\n      <td>1:NOM arrival</td>\n      <td>1:Males</td>\n      <td>A04:0 - 4</td>\n      <td>0:Australia</td>\n      <td>A:Annual</td>\n      <td>2006:2006</td>\n      <td>11840</td>\n      <td>NaN</td>\n    </tr>\n    <tr>\n      <th>3</th>\n      <td>1:NOM arrival</td>\n      <td>1:Males</td>\n      <td>A04:0 - 4</td>\n      <td>0:Australia</td>\n      <td>A:Annual</td>\n      <td>2007:2007</td>\n      <td>13250</td>\n      <td>NaN</td>\n    </tr>\n    <tr>\n      <th>4</th>\n      <td>1:NOM arrival</td>\n      <td>1:Males</td>\n      <td>A04:0 - 4</td>\n      <td>0:Australia</td>\n      <td>A:Annual</td>\n      <td>2008:2008</td>\n      <td>15470</td>\n      <td>NaN</td>\n    </tr>\n  </tbody>\n</table>\n</div>"
     },
     "metadata": {},
     "execution_count": 46
    }
   ],
   "source": [
    "# Dependencies and Setup\n",
    "import pandas as pd\n",
    "\n",
    "# File to Load \n",
    "file = \"Data/migration_data.csv\"\n",
    "\n",
    "# Read file and store into Pandas data frame\n",
    "migration_data = pd.read_csv(file)\n",
    "\n",
    "# Test whether data has been read\n",
    "migration_data.head()\n"
   ]
  },
  {
   "source": [
    "# Cleaning data - Drop collumn"
   ],
   "cell_type": "markdown",
   "metadata": {}
  },
  {
   "cell_type": "code",
   "execution_count": 47,
   "metadata": {},
   "outputs": [],
   "source": [
    "# Drop the last collumn \"Flag Codes\" - not needed\n",
    "migration_data = migration_data.drop(columns=['Flag Codes:Flags'])"
   ]
  },
  {
   "cell_type": "code",
   "execution_count": 48,
   "metadata": {},
   "outputs": [
    {
     "output_type": "execute_result",
     "data": {
      "text/plain": [
       "  MEASURE:Migration type SEX_ABS:Sex    AGE:Age ASGS_2011:Region  \\\n",
       "0          1:NOM arrival     1:Males  A04:0 - 4      0:Australia   \n",
       "1          1:NOM arrival     1:Males  A04:0 - 4      0:Australia   \n",
       "2          1:NOM arrival     1:Males  A04:0 - 4      0:Australia   \n",
       "3          1:NOM arrival     1:Males  A04:0 - 4      0:Australia   \n",
       "4          1:NOM arrival     1:Males  A04:0 - 4      0:Australia   \n",
       "\n",
       "  FREQUENCY:Frequency  TIME:Time  Value  \n",
       "0            A:Annual  2004:2004  10080  \n",
       "1            A:Annual  2005:2005  10680  \n",
       "2            A:Annual  2006:2006  11840  \n",
       "3            A:Annual  2007:2007  13250  \n",
       "4            A:Annual  2008:2008  15470  "
      ],
      "text/html": "<div>\n<style scoped>\n    .dataframe tbody tr th:only-of-type {\n        vertical-align: middle;\n    }\n\n    .dataframe tbody tr th {\n        vertical-align: top;\n    }\n\n    .dataframe thead th {\n        text-align: right;\n    }\n</style>\n<table border=\"1\" class=\"dataframe\">\n  <thead>\n    <tr style=\"text-align: right;\">\n      <th></th>\n      <th>MEASURE:Migration type</th>\n      <th>SEX_ABS:Sex</th>\n      <th>AGE:Age</th>\n      <th>ASGS_2011:Region</th>\n      <th>FREQUENCY:Frequency</th>\n      <th>TIME:Time</th>\n      <th>Value</th>\n    </tr>\n  </thead>\n  <tbody>\n    <tr>\n      <th>0</th>\n      <td>1:NOM arrival</td>\n      <td>1:Males</td>\n      <td>A04:0 - 4</td>\n      <td>0:Australia</td>\n      <td>A:Annual</td>\n      <td>2004:2004</td>\n      <td>10080</td>\n    </tr>\n    <tr>\n      <th>1</th>\n      <td>1:NOM arrival</td>\n      <td>1:Males</td>\n      <td>A04:0 - 4</td>\n      <td>0:Australia</td>\n      <td>A:Annual</td>\n      <td>2005:2005</td>\n      <td>10680</td>\n    </tr>\n    <tr>\n      <th>2</th>\n      <td>1:NOM arrival</td>\n      <td>1:Males</td>\n      <td>A04:0 - 4</td>\n      <td>0:Australia</td>\n      <td>A:Annual</td>\n      <td>2006:2006</td>\n      <td>11840</td>\n    </tr>\n    <tr>\n      <th>3</th>\n      <td>1:NOM arrival</td>\n      <td>1:Males</td>\n      <td>A04:0 - 4</td>\n      <td>0:Australia</td>\n      <td>A:Annual</td>\n      <td>2007:2007</td>\n      <td>13250</td>\n    </tr>\n    <tr>\n      <th>4</th>\n      <td>1:NOM arrival</td>\n      <td>1:Males</td>\n      <td>A04:0 - 4</td>\n      <td>0:Australia</td>\n      <td>A:Annual</td>\n      <td>2008:2008</td>\n      <td>15470</td>\n    </tr>\n  </tbody>\n</table>\n</div>"
     },
     "metadata": {},
     "execution_count": 48
    }
   ],
   "source": [
    "migration_data.head()"
   ]
  },
  {
   "source": [
    "# Cleaning data - Rename collumns"
   ],
   "cell_type": "markdown",
   "metadata": {}
  },
  {
   "cell_type": "code",
   "execution_count": 49,
   "metadata": {},
   "outputs": [],
   "source": [
    "migration_data = migration_data.rename(columns = {\n",
    "    'MEASURE:Migration type': \"Migration type\", \n",
    "    'SEX_ABS:Sex' : \"Sex\", \n",
    "    'AGE:Age' : \"Age\", \n",
    "    'ASGS_2011:Region' : \"Region\",\n",
    "    'FREQUENCY:Frequency' : \"Frequency\", \n",
    "    'TIME:Time' : \"Year\"})"
   ]
  },
  {
   "cell_type": "code",
   "execution_count": 50,
   "metadata": {},
   "outputs": [
    {
     "output_type": "execute_result",
     "data": {
      "text/plain": [
       "Index(['Migration type', 'Sex', 'Age', 'Region', 'Frequency', 'Year', 'Value'], dtype='object')"
      ]
     },
     "metadata": {},
     "execution_count": 50
    }
   ],
   "source": [
    "migration_data.columns"
   ]
  },
  {
   "source": [
    "# Cleaning data - Removing and extracting unwanted string or numbers from collumns"
   ],
   "cell_type": "markdown",
   "metadata": {}
  },
  {
   "cell_type": "code",
   "execution_count": 51,
   "metadata": {},
   "outputs": [
    {
     "output_type": "execute_result",
     "data": {
      "text/plain": [
       "0        NOM arrival\n",
       "1        NOM arrival\n",
       "2        NOM arrival\n",
       "3        NOM arrival\n",
       "4        NOM arrival\n",
       "            ...     \n",
       "19435            NOM\n",
       "19436            NOM\n",
       "19437            NOM\n",
       "19438            NOM\n",
       "19439            NOM\n",
       "Name: Migration type, Length: 19440, dtype: object"
      ]
     },
     "metadata": {},
     "execution_count": 51
    }
   ],
   "source": [
    "# MIGRATION DATA\n",
    "migration_data['Migration type'] = migration_data['Migration type'].str.lstrip('123:')\n",
    "migration_data['Migration type']"
   ]
  },
  {
   "cell_type": "code",
   "execution_count": 52,
   "metadata": {},
   "outputs": [
    {
     "output_type": "execute_result",
     "data": {
      "text/plain": [
       "0          Males\n",
       "1          Males\n",
       "2          Males\n",
       "3          Males\n",
       "4          Males\n",
       "          ...   \n",
       "19435    Persons\n",
       "19436    Persons\n",
       "19437    Persons\n",
       "19438    Persons\n",
       "19439    Persons\n",
       "Name: Sex, Length: 19440, dtype: object"
      ]
     },
     "metadata": {},
     "execution_count": 52
    }
   ],
   "source": [
    "# SEX \n",
    "migration_data['Sex'] = migration_data['Sex'].str.lstrip('123:')\n",
    "migration_data['Sex']"
   ]
  },
  {
   "source": [
    "migration_data['Age'] = migration_data.Age.str.split(':').apply(lambda x: x[1])\n",
    "migration_data['Age']\n"
   ],
   "cell_type": "code",
   "metadata": {},
   "execution_count": 53,
   "outputs": [
    {
     "output_type": "execute_result",
     "data": {
      "text/plain": [
       "0              0 - 4\n",
       "1              0 - 4\n",
       "2              0 - 4\n",
       "3              0 - 4\n",
       "4              0 - 4\n",
       "            ...     \n",
       "19435    65 and over\n",
       "19436    65 and over\n",
       "19437    65 and over\n",
       "19438    65 and over\n",
       "19439    65 and over\n",
       "Name: Age, Length: 19440, dtype: object"
      ]
     },
     "metadata": {},
     "execution_count": 53
    }
   ]
  },
  {
   "cell_type": "code",
   "execution_count": 54,
   "metadata": {},
   "outputs": [
    {
     "output_type": "execute_result",
     "data": {
      "text/plain": [
       "0                           Australia\n",
       "1                           Australia\n",
       "2                           Australia\n",
       "3                           Australia\n",
       "4                           Australia\n",
       "                     ...             \n",
       "19435    Australian Capital Territory\n",
       "19436    Australian Capital Territory\n",
       "19437    Australian Capital Territory\n",
       "19438    Australian Capital Territory\n",
       "19439    Australian Capital Territory\n",
       "Name: Region, Length: 19440, dtype: object"
      ]
     },
     "metadata": {},
     "execution_count": 54
    }
   ],
   "source": [
    "# REGION\n",
    "migration_data['Region'] = migration_data['Region'].str.lstrip('012345678:')\n",
    "migration_data['Region']"
   ]
  },
  {
   "cell_type": "code",
   "execution_count": 55,
   "metadata": {},
   "outputs": [],
   "source": [
    "# Add the abbreviations for each state i.e. AUS, VIC, NSW, QLD, WA, SA, ACT, NT, TAS"
   ]
  },
  {
   "cell_type": "code",
   "execution_count": 56,
   "metadata": {},
   "outputs": [],
   "source": [
    "migration_data.loc[migration_data['Region'] == 'Australia', 'Region_X'] = 'AUS'\n",
    "migration_data.loc[migration_data['Region'] == 'Victoria', 'Region_X'] = 'VIC'\n",
    "migration_data.loc[migration_data['Region'] == 'New South Wales', 'Region_X'] = 'NSW'\n",
    "migration_data.loc[migration_data['Region'] == 'Queensland', 'Region_X'] = 'QLD'\n",
    "migration_data.loc[migration_data['Region'] == 'Western Australia', 'Region_X'] = 'WA'\n",
    "migration_data.loc[migration_data['Region'] == 'South Australia', 'Region_X'] = 'SA'\n",
    "migration_data.loc[migration_data['Region'] == 'Australian Capital Territory', 'Region_X'] = 'ACT'\n",
    "migration_data.loc[migration_data['Region'] == 'Northern Territory', 'Region_X'] = 'NT'\n",
    "migration_data.loc[migration_data['Region'] == 'Tasmania', 'Region_X'] = 'TAS'"
   ]
  },
  {
   "cell_type": "code",
   "execution_count": 57,
   "metadata": {},
   "outputs": [
    {
     "output_type": "execute_result",
     "data": {
      "text/plain": [
       "  Migration type    Sex    Age     Region Frequency       Year  Value Region_X\n",
       "0    NOM arrival  Males  0 - 4  Australia  A:Annual  2004:2004  10080      AUS\n",
       "1    NOM arrival  Males  0 - 4  Australia  A:Annual  2005:2005  10680      AUS\n",
       "2    NOM arrival  Males  0 - 4  Australia  A:Annual  2006:2006  11840      AUS\n",
       "3    NOM arrival  Males  0 - 4  Australia  A:Annual  2007:2007  13250      AUS\n",
       "4    NOM arrival  Males  0 - 4  Australia  A:Annual  2008:2008  15470      AUS"
      ],
      "text/html": "<div>\n<style scoped>\n    .dataframe tbody tr th:only-of-type {\n        vertical-align: middle;\n    }\n\n    .dataframe tbody tr th {\n        vertical-align: top;\n    }\n\n    .dataframe thead th {\n        text-align: right;\n    }\n</style>\n<table border=\"1\" class=\"dataframe\">\n  <thead>\n    <tr style=\"text-align: right;\">\n      <th></th>\n      <th>Migration type</th>\n      <th>Sex</th>\n      <th>Age</th>\n      <th>Region</th>\n      <th>Frequency</th>\n      <th>Year</th>\n      <th>Value</th>\n      <th>Region_X</th>\n    </tr>\n  </thead>\n  <tbody>\n    <tr>\n      <th>0</th>\n      <td>NOM arrival</td>\n      <td>Males</td>\n      <td>0 - 4</td>\n      <td>Australia</td>\n      <td>A:Annual</td>\n      <td>2004:2004</td>\n      <td>10080</td>\n      <td>AUS</td>\n    </tr>\n    <tr>\n      <th>1</th>\n      <td>NOM arrival</td>\n      <td>Males</td>\n      <td>0 - 4</td>\n      <td>Australia</td>\n      <td>A:Annual</td>\n      <td>2005:2005</td>\n      <td>10680</td>\n      <td>AUS</td>\n    </tr>\n    <tr>\n      <th>2</th>\n      <td>NOM arrival</td>\n      <td>Males</td>\n      <td>0 - 4</td>\n      <td>Australia</td>\n      <td>A:Annual</td>\n      <td>2006:2006</td>\n      <td>11840</td>\n      <td>AUS</td>\n    </tr>\n    <tr>\n      <th>3</th>\n      <td>NOM arrival</td>\n      <td>Males</td>\n      <td>0 - 4</td>\n      <td>Australia</td>\n      <td>A:Annual</td>\n      <td>2007:2007</td>\n      <td>13250</td>\n      <td>AUS</td>\n    </tr>\n    <tr>\n      <th>4</th>\n      <td>NOM arrival</td>\n      <td>Males</td>\n      <td>0 - 4</td>\n      <td>Australia</td>\n      <td>A:Annual</td>\n      <td>2008:2008</td>\n      <td>15470</td>\n      <td>AUS</td>\n    </tr>\n  </tbody>\n</table>\n</div>"
     },
     "metadata": {},
     "execution_count": 57
    }
   ],
   "source": [
    "migration_data.head()"
   ]
  },
  {
   "cell_type": "code",
   "execution_count": 58,
   "metadata": {},
   "outputs": [
    {
     "output_type": "execute_result",
     "data": {
      "text/plain": [
       "0        Annual\n",
       "1        Annual\n",
       "2        Annual\n",
       "3        Annual\n",
       "4        Annual\n",
       "          ...  \n",
       "19435    Annual\n",
       "19436    Annual\n",
       "19437    Annual\n",
       "19438    Annual\n",
       "19439    Annual\n",
       "Name: Frequency, Length: 19440, dtype: object"
      ]
     },
     "metadata": {},
     "execution_count": 58
    }
   ],
   "source": [
    "# FREQUENCY\n",
    "migration_data['Frequency'] = migration_data['Frequency'].str.replace('A:Annual', 'Annual')\n",
    "migration_data['Frequency']"
   ]
  },
  {
   "cell_type": "code",
   "execution_count": 59,
   "metadata": {},
   "outputs": [
    {
     "output_type": "execute_result",
     "data": {
      "text/plain": [
       "0        2004\n",
       "1        2005\n",
       "2        2006\n",
       "3        2007\n",
       "4        2008\n",
       "         ... \n",
       "19435    2015\n",
       "19436    2016\n",
       "19437    2017\n",
       "19438    2018\n",
       "19439    2019\n",
       "Name: Year, Length: 19440, dtype: object"
      ]
     },
     "metadata": {},
     "execution_count": 59
    }
   ],
   "source": [
    "# TIME\n",
    "migration_data['Year'] = migration_data.Year.str.split(':').apply(lambda x: x[1])\n",
    "migration_data['Year']"
   ]
  },
  {
   "source": [
    "# Aggregating datasets "
   ],
   "cell_type": "markdown",
   "metadata": {}
  },
  {
   "cell_type": "code",
   "execution_count": 60,
   "metadata": {},
   "outputs": [
    {
     "output_type": "execute_result",
     "data": {
      "text/plain": [
       "   Migration type    Sex    Age             Region Frequency  Year  Value  \\\n",
       "0     NOM arrival  Males  0 - 4          Australia    Annual  2004  10080   \n",
       "1     NOM arrival  Males  0 - 4          Australia    Annual  2005  10680   \n",
       "2     NOM arrival  Males  0 - 4          Australia    Annual  2006  11840   \n",
       "3     NOM arrival  Males  0 - 4          Australia    Annual  2007  13250   \n",
       "4     NOM arrival  Males  0 - 4          Australia    Annual  2008  15470   \n",
       "..            ...    ...    ...                ...       ...   ...    ...   \n",
       "95    NOM arrival  Males  0 - 4  Western Australia    Annual  2019   1460   \n",
       "96    NOM arrival  Males  0 - 4           Tasmania    Annual  2004    110   \n",
       "97    NOM arrival  Males  0 - 4           Tasmania    Annual  2005     90   \n",
       "98    NOM arrival  Males  0 - 4           Tasmania    Annual  2006    110   \n",
       "99    NOM arrival  Males  0 - 4           Tasmania    Annual  2007    120   \n",
       "\n",
       "   Region_X  \n",
       "0       AUS  \n",
       "1       AUS  \n",
       "2       AUS  \n",
       "3       AUS  \n",
       "4       AUS  \n",
       "..      ...  \n",
       "95       WA  \n",
       "96      TAS  \n",
       "97      TAS  \n",
       "98      TAS  \n",
       "99      TAS  \n",
       "\n",
       "[100 rows x 8 columns]"
      ],
      "text/html": "<div>\n<style scoped>\n    .dataframe tbody tr th:only-of-type {\n        vertical-align: middle;\n    }\n\n    .dataframe tbody tr th {\n        vertical-align: top;\n    }\n\n    .dataframe thead th {\n        text-align: right;\n    }\n</style>\n<table border=\"1\" class=\"dataframe\">\n  <thead>\n    <tr style=\"text-align: right;\">\n      <th></th>\n      <th>Migration type</th>\n      <th>Sex</th>\n      <th>Age</th>\n      <th>Region</th>\n      <th>Frequency</th>\n      <th>Year</th>\n      <th>Value</th>\n      <th>Region_X</th>\n    </tr>\n  </thead>\n  <tbody>\n    <tr>\n      <th>0</th>\n      <td>NOM arrival</td>\n      <td>Males</td>\n      <td>0 - 4</td>\n      <td>Australia</td>\n      <td>Annual</td>\n      <td>2004</td>\n      <td>10080</td>\n      <td>AUS</td>\n    </tr>\n    <tr>\n      <th>1</th>\n      <td>NOM arrival</td>\n      <td>Males</td>\n      <td>0 - 4</td>\n      <td>Australia</td>\n      <td>Annual</td>\n      <td>2005</td>\n      <td>10680</td>\n      <td>AUS</td>\n    </tr>\n    <tr>\n      <th>2</th>\n      <td>NOM arrival</td>\n      <td>Males</td>\n      <td>0 - 4</td>\n      <td>Australia</td>\n      <td>Annual</td>\n      <td>2006</td>\n      <td>11840</td>\n      <td>AUS</td>\n    </tr>\n    <tr>\n      <th>3</th>\n      <td>NOM arrival</td>\n      <td>Males</td>\n      <td>0 - 4</td>\n      <td>Australia</td>\n      <td>Annual</td>\n      <td>2007</td>\n      <td>13250</td>\n      <td>AUS</td>\n    </tr>\n    <tr>\n      <th>4</th>\n      <td>NOM arrival</td>\n      <td>Males</td>\n      <td>0 - 4</td>\n      <td>Australia</td>\n      <td>Annual</td>\n      <td>2008</td>\n      <td>15470</td>\n      <td>AUS</td>\n    </tr>\n    <tr>\n      <th>...</th>\n      <td>...</td>\n      <td>...</td>\n      <td>...</td>\n      <td>...</td>\n      <td>...</td>\n      <td>...</td>\n      <td>...</td>\n      <td>...</td>\n    </tr>\n    <tr>\n      <th>95</th>\n      <td>NOM arrival</td>\n      <td>Males</td>\n      <td>0 - 4</td>\n      <td>Western Australia</td>\n      <td>Annual</td>\n      <td>2019</td>\n      <td>1460</td>\n      <td>WA</td>\n    </tr>\n    <tr>\n      <th>96</th>\n      <td>NOM arrival</td>\n      <td>Males</td>\n      <td>0 - 4</td>\n      <td>Tasmania</td>\n      <td>Annual</td>\n      <td>2004</td>\n      <td>110</td>\n      <td>TAS</td>\n    </tr>\n    <tr>\n      <th>97</th>\n      <td>NOM arrival</td>\n      <td>Males</td>\n      <td>0 - 4</td>\n      <td>Tasmania</td>\n      <td>Annual</td>\n      <td>2005</td>\n      <td>90</td>\n      <td>TAS</td>\n    </tr>\n    <tr>\n      <th>98</th>\n      <td>NOM arrival</td>\n      <td>Males</td>\n      <td>0 - 4</td>\n      <td>Tasmania</td>\n      <td>Annual</td>\n      <td>2006</td>\n      <td>110</td>\n      <td>TAS</td>\n    </tr>\n    <tr>\n      <th>99</th>\n      <td>NOM arrival</td>\n      <td>Males</td>\n      <td>0 - 4</td>\n      <td>Tasmania</td>\n      <td>Annual</td>\n      <td>2007</td>\n      <td>120</td>\n      <td>TAS</td>\n    </tr>\n  </tbody>\n</table>\n<p>100 rows × 8 columns</p>\n</div>"
     },
     "metadata": {},
     "execution_count": 60
    }
   ],
   "source": [
    "migration_data.head(100)"
   ]
  },
  {
   "cell_type": "code",
   "execution_count": 61,
   "metadata": {},
   "outputs": [
    {
     "output_type": "execute_result",
     "data": {
      "text/plain": [
       "Migration type  Region_X  Year  Sex      Age        \n",
       "NOM             ACT       2004  Females  0 - 4            0\n",
       "                                         10 - 14         60\n",
       "                                         15 - 19        170\n",
       "                                         20 - 24         80\n",
       "                                         25 - 29         50\n",
       "                                                       ... \n",
       "                          2007  Females  50 - 54          0\n",
       "                                         55 - 59        -10\n",
       "                                         60 - 64          0\n",
       "                                         65 and over    -20\n",
       "                                         All ages       930\n",
       "Name: Value, Length: 150, dtype: int64"
      ]
     },
     "metadata": {},
     "execution_count": 61
    }
   ],
   "source": [
    "net_migration = migration_data.groupby(['Migration type', 'Region_X', 'Year', 'Sex', 'Age']).sum()['Value']\n",
    "net_migration.head(150)"
   ]
  },
  {
   "cell_type": "code",
   "execution_count": 62,
   "metadata": {},
   "outputs": [
    {
     "output_type": "execute_result",
     "data": {
      "text/plain": [
       "      Migration type Region_X  Year      Sex          Age  Value\n",
       "0                NOM      ACT  2004  Females        0 - 4      0\n",
       "1                NOM      ACT  2004  Females      10 - 14     60\n",
       "2                NOM      ACT  2004  Females      15 - 19    170\n",
       "3                NOM      ACT  2004  Females      20 - 24     80\n",
       "4                NOM      ACT  2004  Females      25 - 29     50\n",
       "...              ...      ...   ...      ...          ...    ...\n",
       "19435  NOM departure       WA  2019  Persons      50 - 54   1120\n",
       "19436  NOM departure       WA  2019  Persons      55 - 59   1050\n",
       "19437  NOM departure       WA  2019  Persons      60 - 64    900\n",
       "19438  NOM departure       WA  2019  Persons  65 and over   1400\n",
       "19439  NOM departure       WA  2019  Persons     All ages  29070\n",
       "\n",
       "[19440 rows x 6 columns]"
      ],
      "text/html": "<div>\n<style scoped>\n    .dataframe tbody tr th:only-of-type {\n        vertical-align: middle;\n    }\n\n    .dataframe tbody tr th {\n        vertical-align: top;\n    }\n\n    .dataframe thead th {\n        text-align: right;\n    }\n</style>\n<table border=\"1\" class=\"dataframe\">\n  <thead>\n    <tr style=\"text-align: right;\">\n      <th></th>\n      <th>Migration type</th>\n      <th>Region_X</th>\n      <th>Year</th>\n      <th>Sex</th>\n      <th>Age</th>\n      <th>Value</th>\n    </tr>\n  </thead>\n  <tbody>\n    <tr>\n      <th>0</th>\n      <td>NOM</td>\n      <td>ACT</td>\n      <td>2004</td>\n      <td>Females</td>\n      <td>0 - 4</td>\n      <td>0</td>\n    </tr>\n    <tr>\n      <th>1</th>\n      <td>NOM</td>\n      <td>ACT</td>\n      <td>2004</td>\n      <td>Females</td>\n      <td>10 - 14</td>\n      <td>60</td>\n    </tr>\n    <tr>\n      <th>2</th>\n      <td>NOM</td>\n      <td>ACT</td>\n      <td>2004</td>\n      <td>Females</td>\n      <td>15 - 19</td>\n      <td>170</td>\n    </tr>\n    <tr>\n      <th>3</th>\n      <td>NOM</td>\n      <td>ACT</td>\n      <td>2004</td>\n      <td>Females</td>\n      <td>20 - 24</td>\n      <td>80</td>\n    </tr>\n    <tr>\n      <th>4</th>\n      <td>NOM</td>\n      <td>ACT</td>\n      <td>2004</td>\n      <td>Females</td>\n      <td>25 - 29</td>\n      <td>50</td>\n    </tr>\n    <tr>\n      <th>...</th>\n      <td>...</td>\n      <td>...</td>\n      <td>...</td>\n      <td>...</td>\n      <td>...</td>\n      <td>...</td>\n    </tr>\n    <tr>\n      <th>19435</th>\n      <td>NOM departure</td>\n      <td>WA</td>\n      <td>2019</td>\n      <td>Persons</td>\n      <td>50 - 54</td>\n      <td>1120</td>\n    </tr>\n    <tr>\n      <th>19436</th>\n      <td>NOM departure</td>\n      <td>WA</td>\n      <td>2019</td>\n      <td>Persons</td>\n      <td>55 - 59</td>\n      <td>1050</td>\n    </tr>\n    <tr>\n      <th>19437</th>\n      <td>NOM departure</td>\n      <td>WA</td>\n      <td>2019</td>\n      <td>Persons</td>\n      <td>60 - 64</td>\n      <td>900</td>\n    </tr>\n    <tr>\n      <th>19438</th>\n      <td>NOM departure</td>\n      <td>WA</td>\n      <td>2019</td>\n      <td>Persons</td>\n      <td>65 and over</td>\n      <td>1400</td>\n    </tr>\n    <tr>\n      <th>19439</th>\n      <td>NOM departure</td>\n      <td>WA</td>\n      <td>2019</td>\n      <td>Persons</td>\n      <td>All ages</td>\n      <td>29070</td>\n    </tr>\n  </tbody>\n</table>\n<p>19440 rows × 6 columns</p>\n</div>"
     },
     "metadata": {},
     "execution_count": 62
    }
   ],
   "source": [
    "final_net_migration = net_migration.reset_index()\n",
    "final_net_migration"
   ]
  },
  {
   "cell_type": "code",
   "execution_count": 63,
   "metadata": {},
   "outputs": [],
   "source": [
    "final_net_migration.to_csv (\"Data/net_migration.csv\", index = None, header=True, encoding='utf-8') "
   ]
  },
  {
   "source": [
    "# Connecting to pgAdmin"
   ],
   "cell_type": "markdown",
   "metadata": {}
  },
  {
   "cell_type": "code",
   "execution_count": 64,
   "metadata": {},
   "outputs": [],
   "source": [
    "from sqlalchemy import create_engine"
   ]
  },
  {
   "cell_type": "code",
   "execution_count": 65,
   "metadata": {},
   "outputs": [],
   "source": [
    "rds_connection_string = \"vanessaj:Bootcamp2021@localhost:5432/enrolment_migration_db\"\n",
    "engine = create_engine(f'postgresql://{rds_connection_string}')"
   ]
  },
  {
   "cell_type": "code",
   "execution_count": 71,
   "metadata": {},
   "outputs": [
    {
     "output_type": "execute_result",
     "data": {
      "text/plain": [
       "  Region  Year  Num_Enrolled\n",
       "0    NSW  2004      777700.0\n",
       "1    NSW  2005      784400.0\n",
       "2    NSW  2006      784400.0\n",
       "3    NSW  2007      785600.0\n",
       "4    NSW  2008      800500.0"
      ],
      "text/html": "<div>\n<style scoped>\n    .dataframe tbody tr th:only-of-type {\n        vertical-align: middle;\n    }\n\n    .dataframe tbody tr th {\n        vertical-align: top;\n    }\n\n    .dataframe thead th {\n        text-align: right;\n    }\n</style>\n<table border=\"1\" class=\"dataframe\">\n  <thead>\n    <tr style=\"text-align: right;\">\n      <th></th>\n      <th>Region</th>\n      <th>Year</th>\n      <th>Num_Enrolled</th>\n    </tr>\n  </thead>\n  <tbody>\n    <tr>\n      <th>0</th>\n      <td>NSW</td>\n      <td>2004</td>\n      <td>777700.0</td>\n    </tr>\n    <tr>\n      <th>1</th>\n      <td>NSW</td>\n      <td>2005</td>\n      <td>784400.0</td>\n    </tr>\n    <tr>\n      <th>2</th>\n      <td>NSW</td>\n      <td>2006</td>\n      <td>784400.0</td>\n    </tr>\n    <tr>\n      <th>3</th>\n      <td>NSW</td>\n      <td>2007</td>\n      <td>785600.0</td>\n    </tr>\n    <tr>\n      <th>4</th>\n      <td>NSW</td>\n      <td>2008</td>\n      <td>800500.0</td>\n    </tr>\n  </tbody>\n</table>\n</div>"
     },
     "metadata": {},
     "execution_count": 71
    }
   ],
   "source": [
    "# Load Enrolment Data\n",
    "file = \"Data/final_enrolment_data.csv\"\n",
    "\n",
    "# Read file and store into Pandas data frame\n",
    "enrolment_df = pd.read_csv(file)\n",
    "\n",
    "# Test whether data has been read\n",
    "enrolment_df.head()\n"
   ]
  },
  {
   "cell_type": "code",
   "execution_count": 72,
   "metadata": {},
   "outputs": [
    {
     "output_type": "execute_result",
     "data": {
      "text/plain": [
       "  Migration type Region_X  Year      Sex      Age  Value\n",
       "0            NOM      ACT  2004  Females    0 - 4      0\n",
       "1            NOM      ACT  2004  Females  10 - 14     60\n",
       "2            NOM      ACT  2004  Females  15 - 19    170\n",
       "3            NOM      ACT  2004  Females  20 - 24     80\n",
       "4            NOM      ACT  2004  Females  25 - 29     50"
      ],
      "text/html": "<div>\n<style scoped>\n    .dataframe tbody tr th:only-of-type {\n        vertical-align: middle;\n    }\n\n    .dataframe tbody tr th {\n        vertical-align: top;\n    }\n\n    .dataframe thead th {\n        text-align: right;\n    }\n</style>\n<table border=\"1\" class=\"dataframe\">\n  <thead>\n    <tr style=\"text-align: right;\">\n      <th></th>\n      <th>Migration type</th>\n      <th>Region_X</th>\n      <th>Year</th>\n      <th>Sex</th>\n      <th>Age</th>\n      <th>Value</th>\n    </tr>\n  </thead>\n  <tbody>\n    <tr>\n      <th>0</th>\n      <td>NOM</td>\n      <td>ACT</td>\n      <td>2004</td>\n      <td>Females</td>\n      <td>0 - 4</td>\n      <td>0</td>\n    </tr>\n    <tr>\n      <th>1</th>\n      <td>NOM</td>\n      <td>ACT</td>\n      <td>2004</td>\n      <td>Females</td>\n      <td>10 - 14</td>\n      <td>60</td>\n    </tr>\n    <tr>\n      <th>2</th>\n      <td>NOM</td>\n      <td>ACT</td>\n      <td>2004</td>\n      <td>Females</td>\n      <td>15 - 19</td>\n      <td>170</td>\n    </tr>\n    <tr>\n      <th>3</th>\n      <td>NOM</td>\n      <td>ACT</td>\n      <td>2004</td>\n      <td>Females</td>\n      <td>20 - 24</td>\n      <td>80</td>\n    </tr>\n    <tr>\n      <th>4</th>\n      <td>NOM</td>\n      <td>ACT</td>\n      <td>2004</td>\n      <td>Females</td>\n      <td>25 - 29</td>\n      <td>50</td>\n    </tr>\n  </tbody>\n</table>\n</div>"
     },
     "metadata": {},
     "execution_count": 72
    }
   ],
   "source": [
    "# Load Enrolment Data\n",
    "file = \"Data/net_migration.csv\"\n",
    "\n",
    "# Read file and store into Pandas data frame\n",
    "net_migration_df = pd.read_csv(file)\n",
    "\n",
    "# Test whether data has been read\n",
    "net_migration_df.head()"
   ]
  },
  {
   "cell_type": "code",
   "execution_count": 74,
   "metadata": {},
   "outputs": [],
   "source": [
    "# Read in databases created into sql\n",
    "\n",
    "# MIGRATION\n",
    "net_migration_df.to_sql(name='net_migration_df', con=engine, if_exists='replace', index=False)\n",
    "\n",
    "# ENROLMENT\n",
    "enrolment_df.to_sql(name='enrolment_df', con=engine, if_exists='replace', index=False)"
   ]
  },
  {
   "cell_type": "code",
   "execution_count": 75,
   "metadata": {},
   "outputs": [
    {
     "output_type": "execute_result",
     "data": {
      "text/plain": [
       "  Migration type Region_X  Year      Sex      Age  Value\n",
       "0            NOM      ACT  2004  Females    0 - 4      0\n",
       "1            NOM      ACT  2004  Females  10 - 14     60\n",
       "2            NOM      ACT  2004  Females  15 - 19    170\n",
       "3            NOM      ACT  2004  Females  20 - 24     80\n",
       "4            NOM      ACT  2004  Females  25 - 29     50"
      ],
      "text/html": "<div>\n<style scoped>\n    .dataframe tbody tr th:only-of-type {\n        vertical-align: middle;\n    }\n\n    .dataframe tbody tr th {\n        vertical-align: top;\n    }\n\n    .dataframe thead th {\n        text-align: right;\n    }\n</style>\n<table border=\"1\" class=\"dataframe\">\n  <thead>\n    <tr style=\"text-align: right;\">\n      <th></th>\n      <th>Migration type</th>\n      <th>Region_X</th>\n      <th>Year</th>\n      <th>Sex</th>\n      <th>Age</th>\n      <th>Value</th>\n    </tr>\n  </thead>\n  <tbody>\n    <tr>\n      <th>0</th>\n      <td>NOM</td>\n      <td>ACT</td>\n      <td>2004</td>\n      <td>Females</td>\n      <td>0 - 4</td>\n      <td>0</td>\n    </tr>\n    <tr>\n      <th>1</th>\n      <td>NOM</td>\n      <td>ACT</td>\n      <td>2004</td>\n      <td>Females</td>\n      <td>10 - 14</td>\n      <td>60</td>\n    </tr>\n    <tr>\n      <th>2</th>\n      <td>NOM</td>\n      <td>ACT</td>\n      <td>2004</td>\n      <td>Females</td>\n      <td>15 - 19</td>\n      <td>170</td>\n    </tr>\n    <tr>\n      <th>3</th>\n      <td>NOM</td>\n      <td>ACT</td>\n      <td>2004</td>\n      <td>Females</td>\n      <td>20 - 24</td>\n      <td>80</td>\n    </tr>\n    <tr>\n      <th>4</th>\n      <td>NOM</td>\n      <td>ACT</td>\n      <td>2004</td>\n      <td>Females</td>\n      <td>25 - 29</td>\n      <td>50</td>\n    </tr>\n  </tbody>\n</table>\n</div>"
     },
     "metadata": {},
     "execution_count": 75
    }
   ],
   "source": [
    "pd.read_sql_query('select * from net_migration_df', con=engine).head()"
   ]
  },
  {
   "cell_type": "code",
   "execution_count": 76,
   "metadata": {},
   "outputs": [
    {
     "output_type": "execute_result",
     "data": {
      "text/plain": [
       "  Region  Year  Num_Enrolled\n",
       "0    NSW  2004      777700.0\n",
       "1    NSW  2005      784400.0\n",
       "2    NSW  2006      784400.0\n",
       "3    NSW  2007      785600.0\n",
       "4    NSW  2008      800500.0"
      ],
      "text/html": "<div>\n<style scoped>\n    .dataframe tbody tr th:only-of-type {\n        vertical-align: middle;\n    }\n\n    .dataframe tbody tr th {\n        vertical-align: top;\n    }\n\n    .dataframe thead th {\n        text-align: right;\n    }\n</style>\n<table border=\"1\" class=\"dataframe\">\n  <thead>\n    <tr style=\"text-align: right;\">\n      <th></th>\n      <th>Region</th>\n      <th>Year</th>\n      <th>Num_Enrolled</th>\n    </tr>\n  </thead>\n  <tbody>\n    <tr>\n      <th>0</th>\n      <td>NSW</td>\n      <td>2004</td>\n      <td>777700.0</td>\n    </tr>\n    <tr>\n      <th>1</th>\n      <td>NSW</td>\n      <td>2005</td>\n      <td>784400.0</td>\n    </tr>\n    <tr>\n      <th>2</th>\n      <td>NSW</td>\n      <td>2006</td>\n      <td>784400.0</td>\n    </tr>\n    <tr>\n      <th>3</th>\n      <td>NSW</td>\n      <td>2007</td>\n      <td>785600.0</td>\n    </tr>\n    <tr>\n      <th>4</th>\n      <td>NSW</td>\n      <td>2008</td>\n      <td>800500.0</td>\n    </tr>\n  </tbody>\n</table>\n</div>"
     },
     "metadata": {},
     "execution_count": 76
    }
   ],
   "source": [
    "pd.read_sql_query('select * from enrolment_df', con=engine).head()"
   ]
  },
  {
   "cell_type": "code",
   "execution_count": null,
   "metadata": {},
   "outputs": [],
   "source": []
  }
 ]
}