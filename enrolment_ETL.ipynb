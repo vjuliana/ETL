{
 "metadata": {
  "language_info": {
   "codemirror_mode": {
    "name": "ipython",
    "version": 3
   },
   "file_extension": ".py",
   "mimetype": "text/x-python",
   "name": "python",
   "nbconvert_exporter": "python",
   "pygments_lexer": "ipython3",
   "version": "3.6.10-final"
  },
  "orig_nbformat": 2,
  "kernelspec": {
   "name": "python3",
   "display_name": "Python 3.6.10 64-bit",
   "metadata": {
    "interpreter": {
     "hash": "54e8119b40d2fdc5e54d14e0846c2ed0cc09c1bdbc8e2dfced23990a0351e4f6"
    }
   }
  }
 },
 "nbformat": 4,
 "nbformat_minor": 2,
 "cells": [
  {
   "cell_type": "code",
   "execution_count": 1,
   "metadata": {},
   "outputs": [],
   "source": [
    "# Dependencies\n",
    "import pandas as pd\n",
    "import numpy as np"
   ]
  },
  {
   "cell_type": "code",
   "execution_count": 2,
   "metadata": {},
   "outputs": [],
   "source": [
    "# Store filepath in a variable\n",
    "enrolment_data = \"../Data/enrolment_data.xlsx\""
   ]
  },
  {
   "cell_type": "code",
   "execution_count": 41,
   "metadata": {},
   "outputs": [],
   "source": [
    "# Read data file with pandas library (specifying the relevant worksheet within the excel file)\n",
    "# skiprows as first 5 rows of worksheet are irrelevant for purpose of the project\n",
    "enrolment_df = pd.read_excel(enrolment_data, '2004-2020', skiprows=5)"
   ]
  },
  {
   "cell_type": "code",
   "execution_count": 42,
   "metadata": {},
   "outputs": [
    {
     "output_type": "execute_result",
     "data": {
      "text/plain": [
       "   Unnamed: 0   2004   2005   2006   2007   2008   2009   2010   2011   2012  \\\n",
       "3         NSW  777.7  784.4  784.4  785.6  800.5  862.1  926.8  946.0  952.2   \n",
       "4        Vic.    626  591.2  575.7  606.2    661  669.1  723.4  731.3  726.5   \n",
       "5         Qld  429.3  436.6    429  462.8    479    479  515.2  538.3  520.3   \n",
       "6          SA    162  170.5  166.2  175.1  184.2    183  198.0  202.5  205.6   \n",
       "7          WA  224.7  213.1  204.9  223.7  213.8  242.8  252.0  264.2  275.9   \n",
       "8        Tas.   50.8   54.2   52.1   54.1   59.9   58.3   55.0   62.1   60.5   \n",
       "9          NT   14.2   16.2   19.7   12.8   17.8   22.6   26.6   19.5   22.6   \n",
       "10        ACT   48.5   52.7   47.1   51.8   50.9   54.7   58.1   56.8   57.2   \n",
       "\n",
       "    ...  Unnamed: 16374  Unnamed: 16375  Unnamed: 16376  Unnamed: 16377  \\\n",
       "3   ...             NaN             NaN             NaN             NaN   \n",
       "4   ...             NaN             NaN             NaN             NaN   \n",
       "5   ...             NaN             NaN             NaN             NaN   \n",
       "6   ...             NaN             NaN             NaN             NaN   \n",
       "7   ...             NaN             NaN             NaN             NaN   \n",
       "8   ...             NaN             NaN             NaN             NaN   \n",
       "9   ...             NaN             NaN             NaN             NaN   \n",
       "10  ...             NaN             NaN             NaN             NaN   \n",
       "\n",
       "    Unnamed: 16378  Unnamed: 16379  Unnamed: 16380  Unnamed: 16381  \\\n",
       "3              NaN             NaN             NaN             NaN   \n",
       "4              NaN             NaN             NaN             NaN   \n",
       "5              NaN             NaN             NaN             NaN   \n",
       "6              NaN             NaN             NaN             NaN   \n",
       "7              NaN             NaN             NaN             NaN   \n",
       "8              NaN             NaN             NaN             NaN   \n",
       "9              NaN             NaN             NaN             NaN   \n",
       "10             NaN             NaN             NaN             NaN   \n",
       "\n",
       "    Unnamed: 16382  Unnamed: 16383  \n",
       "3              NaN             NaN  \n",
       "4              NaN             NaN  \n",
       "5              NaN             NaN  \n",
       "6              NaN             NaN  \n",
       "7              NaN             NaN  \n",
       "8              NaN             NaN  \n",
       "9              NaN             NaN  \n",
       "10             NaN             NaN  \n",
       "\n",
       "[8 rows x 16384 columns]"
      ],
      "text/html": "<div>\n<style scoped>\n    .dataframe tbody tr th:only-of-type {\n        vertical-align: middle;\n    }\n\n    .dataframe tbody tr th {\n        vertical-align: top;\n    }\n\n    .dataframe thead th {\n        text-align: right;\n    }\n</style>\n<table border=\"1\" class=\"dataframe\">\n  <thead>\n    <tr style=\"text-align: right;\">\n      <th></th>\n      <th>Unnamed: 0</th>\n      <th>2004</th>\n      <th>2005</th>\n      <th>2006</th>\n      <th>2007</th>\n      <th>2008</th>\n      <th>2009</th>\n      <th>2010</th>\n      <th>2011</th>\n      <th>2012</th>\n      <th>...</th>\n      <th>Unnamed: 16374</th>\n      <th>Unnamed: 16375</th>\n      <th>Unnamed: 16376</th>\n      <th>Unnamed: 16377</th>\n      <th>Unnamed: 16378</th>\n      <th>Unnamed: 16379</th>\n      <th>Unnamed: 16380</th>\n      <th>Unnamed: 16381</th>\n      <th>Unnamed: 16382</th>\n      <th>Unnamed: 16383</th>\n    </tr>\n  </thead>\n  <tbody>\n    <tr>\n      <th>3</th>\n      <td>NSW</td>\n      <td>777.7</td>\n      <td>784.4</td>\n      <td>784.4</td>\n      <td>785.6</td>\n      <td>800.5</td>\n      <td>862.1</td>\n      <td>926.8</td>\n      <td>946.0</td>\n      <td>952.2</td>\n      <td>...</td>\n      <td>NaN</td>\n      <td>NaN</td>\n      <td>NaN</td>\n      <td>NaN</td>\n      <td>NaN</td>\n      <td>NaN</td>\n      <td>NaN</td>\n      <td>NaN</td>\n      <td>NaN</td>\n      <td>NaN</td>\n    </tr>\n    <tr>\n      <th>4</th>\n      <td>Vic.</td>\n      <td>626</td>\n      <td>591.2</td>\n      <td>575.7</td>\n      <td>606.2</td>\n      <td>661</td>\n      <td>669.1</td>\n      <td>723.4</td>\n      <td>731.3</td>\n      <td>726.5</td>\n      <td>...</td>\n      <td>NaN</td>\n      <td>NaN</td>\n      <td>NaN</td>\n      <td>NaN</td>\n      <td>NaN</td>\n      <td>NaN</td>\n      <td>NaN</td>\n      <td>NaN</td>\n      <td>NaN</td>\n      <td>NaN</td>\n    </tr>\n    <tr>\n      <th>5</th>\n      <td>Qld</td>\n      <td>429.3</td>\n      <td>436.6</td>\n      <td>429</td>\n      <td>462.8</td>\n      <td>479</td>\n      <td>479</td>\n      <td>515.2</td>\n      <td>538.3</td>\n      <td>520.3</td>\n      <td>...</td>\n      <td>NaN</td>\n      <td>NaN</td>\n      <td>NaN</td>\n      <td>NaN</td>\n      <td>NaN</td>\n      <td>NaN</td>\n      <td>NaN</td>\n      <td>NaN</td>\n      <td>NaN</td>\n      <td>NaN</td>\n    </tr>\n    <tr>\n      <th>6</th>\n      <td>SA</td>\n      <td>162</td>\n      <td>170.5</td>\n      <td>166.2</td>\n      <td>175.1</td>\n      <td>184.2</td>\n      <td>183</td>\n      <td>198.0</td>\n      <td>202.5</td>\n      <td>205.6</td>\n      <td>...</td>\n      <td>NaN</td>\n      <td>NaN</td>\n      <td>NaN</td>\n      <td>NaN</td>\n      <td>NaN</td>\n      <td>NaN</td>\n      <td>NaN</td>\n      <td>NaN</td>\n      <td>NaN</td>\n      <td>NaN</td>\n    </tr>\n    <tr>\n      <th>7</th>\n      <td>WA</td>\n      <td>224.7</td>\n      <td>213.1</td>\n      <td>204.9</td>\n      <td>223.7</td>\n      <td>213.8</td>\n      <td>242.8</td>\n      <td>252.0</td>\n      <td>264.2</td>\n      <td>275.9</td>\n      <td>...</td>\n      <td>NaN</td>\n      <td>NaN</td>\n      <td>NaN</td>\n      <td>NaN</td>\n      <td>NaN</td>\n      <td>NaN</td>\n      <td>NaN</td>\n      <td>NaN</td>\n      <td>NaN</td>\n      <td>NaN</td>\n    </tr>\n    <tr>\n      <th>8</th>\n      <td>Tas.</td>\n      <td>50.8</td>\n      <td>54.2</td>\n      <td>52.1</td>\n      <td>54.1</td>\n      <td>59.9</td>\n      <td>58.3</td>\n      <td>55.0</td>\n      <td>62.1</td>\n      <td>60.5</td>\n      <td>...</td>\n      <td>NaN</td>\n      <td>NaN</td>\n      <td>NaN</td>\n      <td>NaN</td>\n      <td>NaN</td>\n      <td>NaN</td>\n      <td>NaN</td>\n      <td>NaN</td>\n      <td>NaN</td>\n      <td>NaN</td>\n    </tr>\n    <tr>\n      <th>9</th>\n      <td>NT</td>\n      <td>14.2</td>\n      <td>16.2</td>\n      <td>19.7</td>\n      <td>12.8</td>\n      <td>17.8</td>\n      <td>22.6</td>\n      <td>26.6</td>\n      <td>19.5</td>\n      <td>22.6</td>\n      <td>...</td>\n      <td>NaN</td>\n      <td>NaN</td>\n      <td>NaN</td>\n      <td>NaN</td>\n      <td>NaN</td>\n      <td>NaN</td>\n      <td>NaN</td>\n      <td>NaN</td>\n      <td>NaN</td>\n      <td>NaN</td>\n    </tr>\n    <tr>\n      <th>10</th>\n      <td>ACT</td>\n      <td>48.5</td>\n      <td>52.7</td>\n      <td>47.1</td>\n      <td>51.8</td>\n      <td>50.9</td>\n      <td>54.7</td>\n      <td>58.1</td>\n      <td>56.8</td>\n      <td>57.2</td>\n      <td>...</td>\n      <td>NaN</td>\n      <td>NaN</td>\n      <td>NaN</td>\n      <td>NaN</td>\n      <td>NaN</td>\n      <td>NaN</td>\n      <td>NaN</td>\n      <td>NaN</td>\n      <td>NaN</td>\n      <td>NaN</td>\n    </tr>\n  </tbody>\n</table>\n<p>8 rows × 16384 columns</p>\n</div>"
     },
     "metadata": {},
     "execution_count": 42
    }
   ],
   "source": [
    "# Clean worksheet\n",
    "# Delete unnecessary rows\n",
    "enrolment_df = enrolment_df.drop(enrolment_df.index[0:3])\n",
    "enrolment_df = enrolment_df.drop(enrolment_df.index[8:16000])\n",
    "enrolment_df"
   ]
  },
  {
   "cell_type": "code",
   "execution_count": 43,
   "metadata": {},
   "outputs": [
    {
     "output_type": "execute_result",
     "data": {
      "text/plain": [
       "   Unnamed: 0   2004   2005   2006   2007   2008   2009   2010   2011   2012  \\\n",
       "3         NSW  777.7  784.4  784.4  785.6  800.5  862.1  926.8  946.0  952.2   \n",
       "4        Vic.    626  591.2  575.7  606.2    661  669.1  723.4  731.3  726.5   \n",
       "5         Qld  429.3  436.6    429  462.8    479    479  515.2  538.3  520.3   \n",
       "6          SA    162  170.5  166.2  175.1  184.2    183  198.0  202.5  205.6   \n",
       "7          WA  224.7  213.1  204.9  223.7  213.8  242.8  252.0  264.2  275.9   \n",
       "8        Tas.   50.8   54.2   52.1   54.1   59.9   58.3   55.0   62.1   60.5   \n",
       "9          NT   14.2   16.2   19.7   12.8   17.8   22.6   26.6   19.5   22.6   \n",
       "10        ACT   48.5   52.7   47.1   51.8   50.9   54.7   58.1   56.8   57.2   \n",
       "\n",
       "     2013   2014   2015    2016   2017   2018    2019    2020  \n",
       "3   938.3  959.2  936.9  1000.1  976.6  983.1  1021.9  1029.7  \n",
       "4   741.2  759.2  807.1   797.8  786.8  842.8   875.4   849.5  \n",
       "5   567.6  545.1  568.2   601.5  571.7  580.9   594.8   604.7  \n",
       "6   221.7  216.1  227.1   220.0  208.7  212.6   207.8   194.9  \n",
       "7   281.3  296.3  307.7   315.1  309.7  303.6   311.2   299.9  \n",
       "8    64.2   59.8   61.0    59.2   57.5   58.9    60.7    61.8  \n",
       "9    25.2   28.6   30.6    29.2   28.4   26.1    23.7    26.0  \n",
       "10   56.5   64.7   59.3    62.6   63.2   71.4    61.7    59.1  "
      ],
      "text/html": "<div>\n<style scoped>\n    .dataframe tbody tr th:only-of-type {\n        vertical-align: middle;\n    }\n\n    .dataframe tbody tr th {\n        vertical-align: top;\n    }\n\n    .dataframe thead th {\n        text-align: right;\n    }\n</style>\n<table border=\"1\" class=\"dataframe\">\n  <thead>\n    <tr style=\"text-align: right;\">\n      <th></th>\n      <th>Unnamed: 0</th>\n      <th>2004</th>\n      <th>2005</th>\n      <th>2006</th>\n      <th>2007</th>\n      <th>2008</th>\n      <th>2009</th>\n      <th>2010</th>\n      <th>2011</th>\n      <th>2012</th>\n      <th>2013</th>\n      <th>2014</th>\n      <th>2015</th>\n      <th>2016</th>\n      <th>2017</th>\n      <th>2018</th>\n      <th>2019</th>\n      <th>2020</th>\n    </tr>\n  </thead>\n  <tbody>\n    <tr>\n      <th>3</th>\n      <td>NSW</td>\n      <td>777.7</td>\n      <td>784.4</td>\n      <td>784.4</td>\n      <td>785.6</td>\n      <td>800.5</td>\n      <td>862.1</td>\n      <td>926.8</td>\n      <td>946.0</td>\n      <td>952.2</td>\n      <td>938.3</td>\n      <td>959.2</td>\n      <td>936.9</td>\n      <td>1000.1</td>\n      <td>976.6</td>\n      <td>983.1</td>\n      <td>1021.9</td>\n      <td>1029.7</td>\n    </tr>\n    <tr>\n      <th>4</th>\n      <td>Vic.</td>\n      <td>626</td>\n      <td>591.2</td>\n      <td>575.7</td>\n      <td>606.2</td>\n      <td>661</td>\n      <td>669.1</td>\n      <td>723.4</td>\n      <td>731.3</td>\n      <td>726.5</td>\n      <td>741.2</td>\n      <td>759.2</td>\n      <td>807.1</td>\n      <td>797.8</td>\n      <td>786.8</td>\n      <td>842.8</td>\n      <td>875.4</td>\n      <td>849.5</td>\n    </tr>\n    <tr>\n      <th>5</th>\n      <td>Qld</td>\n      <td>429.3</td>\n      <td>436.6</td>\n      <td>429</td>\n      <td>462.8</td>\n      <td>479</td>\n      <td>479</td>\n      <td>515.2</td>\n      <td>538.3</td>\n      <td>520.3</td>\n      <td>567.6</td>\n      <td>545.1</td>\n      <td>568.2</td>\n      <td>601.5</td>\n      <td>571.7</td>\n      <td>580.9</td>\n      <td>594.8</td>\n      <td>604.7</td>\n    </tr>\n    <tr>\n      <th>6</th>\n      <td>SA</td>\n      <td>162</td>\n      <td>170.5</td>\n      <td>166.2</td>\n      <td>175.1</td>\n      <td>184.2</td>\n      <td>183</td>\n      <td>198.0</td>\n      <td>202.5</td>\n      <td>205.6</td>\n      <td>221.7</td>\n      <td>216.1</td>\n      <td>227.1</td>\n      <td>220.0</td>\n      <td>208.7</td>\n      <td>212.6</td>\n      <td>207.8</td>\n      <td>194.9</td>\n    </tr>\n    <tr>\n      <th>7</th>\n      <td>WA</td>\n      <td>224.7</td>\n      <td>213.1</td>\n      <td>204.9</td>\n      <td>223.7</td>\n      <td>213.8</td>\n      <td>242.8</td>\n      <td>252.0</td>\n      <td>264.2</td>\n      <td>275.9</td>\n      <td>281.3</td>\n      <td>296.3</td>\n      <td>307.7</td>\n      <td>315.1</td>\n      <td>309.7</td>\n      <td>303.6</td>\n      <td>311.2</td>\n      <td>299.9</td>\n    </tr>\n    <tr>\n      <th>8</th>\n      <td>Tas.</td>\n      <td>50.8</td>\n      <td>54.2</td>\n      <td>52.1</td>\n      <td>54.1</td>\n      <td>59.9</td>\n      <td>58.3</td>\n      <td>55.0</td>\n      <td>62.1</td>\n      <td>60.5</td>\n      <td>64.2</td>\n      <td>59.8</td>\n      <td>61.0</td>\n      <td>59.2</td>\n      <td>57.5</td>\n      <td>58.9</td>\n      <td>60.7</td>\n      <td>61.8</td>\n    </tr>\n    <tr>\n      <th>9</th>\n      <td>NT</td>\n      <td>14.2</td>\n      <td>16.2</td>\n      <td>19.7</td>\n      <td>12.8</td>\n      <td>17.8</td>\n      <td>22.6</td>\n      <td>26.6</td>\n      <td>19.5</td>\n      <td>22.6</td>\n      <td>25.2</td>\n      <td>28.6</td>\n      <td>30.6</td>\n      <td>29.2</td>\n      <td>28.4</td>\n      <td>26.1</td>\n      <td>23.7</td>\n      <td>26.0</td>\n    </tr>\n    <tr>\n      <th>10</th>\n      <td>ACT</td>\n      <td>48.5</td>\n      <td>52.7</td>\n      <td>47.1</td>\n      <td>51.8</td>\n      <td>50.9</td>\n      <td>54.7</td>\n      <td>58.1</td>\n      <td>56.8</td>\n      <td>57.2</td>\n      <td>56.5</td>\n      <td>64.7</td>\n      <td>59.3</td>\n      <td>62.6</td>\n      <td>63.2</td>\n      <td>71.4</td>\n      <td>61.7</td>\n      <td>59.1</td>\n    </tr>\n  </tbody>\n</table>\n</div>"
     },
     "metadata": {},
     "execution_count": 43
    }
   ],
   "source": [
    "# Delete unneccesary columns\n",
    "enrolment_df.dropna(axis=1, how='any', inplace=True)\n",
    "enrolment_df"
   ]
  },
  {
   "cell_type": "code",
   "execution_count": 44,
   "metadata": {},
   "outputs": [
    {
     "output_type": "execute_result",
     "data": {
      "text/plain": [
       "   Region   2004   2005   2006   2007   2008   2009   2010   2011   2012  \\\n",
       "3     NSW  777.7  784.4  784.4  785.6  800.5  862.1  926.8  946.0  952.2   \n",
       "4    Vic.    626  591.2  575.7  606.2    661  669.1  723.4  731.3  726.5   \n",
       "5     Qld  429.3  436.6    429  462.8    479    479  515.2  538.3  520.3   \n",
       "6      SA    162  170.5  166.2  175.1  184.2    183  198.0  202.5  205.6   \n",
       "7      WA  224.7  213.1  204.9  223.7  213.8  242.8  252.0  264.2  275.9   \n",
       "8    Tas.   50.8   54.2   52.1   54.1   59.9   58.3   55.0   62.1   60.5   \n",
       "9      NT   14.2   16.2   19.7   12.8   17.8   22.6   26.6   19.5   22.6   \n",
       "10    ACT   48.5   52.7   47.1   51.8   50.9   54.7   58.1   56.8   57.2   \n",
       "\n",
       "     2013   2014   2015    2016   2017   2018    2019    2020  \n",
       "3   938.3  959.2  936.9  1000.1  976.6  983.1  1021.9  1029.7  \n",
       "4   741.2  759.2  807.1   797.8  786.8  842.8   875.4   849.5  \n",
       "5   567.6  545.1  568.2   601.5  571.7  580.9   594.8   604.7  \n",
       "6   221.7  216.1  227.1   220.0  208.7  212.6   207.8   194.9  \n",
       "7   281.3  296.3  307.7   315.1  309.7  303.6   311.2   299.9  \n",
       "8    64.2   59.8   61.0    59.2   57.5   58.9    60.7    61.8  \n",
       "9    25.2   28.6   30.6    29.2   28.4   26.1    23.7    26.0  \n",
       "10   56.5   64.7   59.3    62.6   63.2   71.4    61.7    59.1  "
      ],
      "text/html": "<div>\n<style scoped>\n    .dataframe tbody tr th:only-of-type {\n        vertical-align: middle;\n    }\n\n    .dataframe tbody tr th {\n        vertical-align: top;\n    }\n\n    .dataframe thead th {\n        text-align: right;\n    }\n</style>\n<table border=\"1\" class=\"dataframe\">\n  <thead>\n    <tr style=\"text-align: right;\">\n      <th></th>\n      <th>Region</th>\n      <th>2004</th>\n      <th>2005</th>\n      <th>2006</th>\n      <th>2007</th>\n      <th>2008</th>\n      <th>2009</th>\n      <th>2010</th>\n      <th>2011</th>\n      <th>2012</th>\n      <th>2013</th>\n      <th>2014</th>\n      <th>2015</th>\n      <th>2016</th>\n      <th>2017</th>\n      <th>2018</th>\n      <th>2019</th>\n      <th>2020</th>\n    </tr>\n  </thead>\n  <tbody>\n    <tr>\n      <th>3</th>\n      <td>NSW</td>\n      <td>777.7</td>\n      <td>784.4</td>\n      <td>784.4</td>\n      <td>785.6</td>\n      <td>800.5</td>\n      <td>862.1</td>\n      <td>926.8</td>\n      <td>946.0</td>\n      <td>952.2</td>\n      <td>938.3</td>\n      <td>959.2</td>\n      <td>936.9</td>\n      <td>1000.1</td>\n      <td>976.6</td>\n      <td>983.1</td>\n      <td>1021.9</td>\n      <td>1029.7</td>\n    </tr>\n    <tr>\n      <th>4</th>\n      <td>Vic.</td>\n      <td>626</td>\n      <td>591.2</td>\n      <td>575.7</td>\n      <td>606.2</td>\n      <td>661</td>\n      <td>669.1</td>\n      <td>723.4</td>\n      <td>731.3</td>\n      <td>726.5</td>\n      <td>741.2</td>\n      <td>759.2</td>\n      <td>807.1</td>\n      <td>797.8</td>\n      <td>786.8</td>\n      <td>842.8</td>\n      <td>875.4</td>\n      <td>849.5</td>\n    </tr>\n    <tr>\n      <th>5</th>\n      <td>Qld</td>\n      <td>429.3</td>\n      <td>436.6</td>\n      <td>429</td>\n      <td>462.8</td>\n      <td>479</td>\n      <td>479</td>\n      <td>515.2</td>\n      <td>538.3</td>\n      <td>520.3</td>\n      <td>567.6</td>\n      <td>545.1</td>\n      <td>568.2</td>\n      <td>601.5</td>\n      <td>571.7</td>\n      <td>580.9</td>\n      <td>594.8</td>\n      <td>604.7</td>\n    </tr>\n    <tr>\n      <th>6</th>\n      <td>SA</td>\n      <td>162</td>\n      <td>170.5</td>\n      <td>166.2</td>\n      <td>175.1</td>\n      <td>184.2</td>\n      <td>183</td>\n      <td>198.0</td>\n      <td>202.5</td>\n      <td>205.6</td>\n      <td>221.7</td>\n      <td>216.1</td>\n      <td>227.1</td>\n      <td>220.0</td>\n      <td>208.7</td>\n      <td>212.6</td>\n      <td>207.8</td>\n      <td>194.9</td>\n    </tr>\n    <tr>\n      <th>7</th>\n      <td>WA</td>\n      <td>224.7</td>\n      <td>213.1</td>\n      <td>204.9</td>\n      <td>223.7</td>\n      <td>213.8</td>\n      <td>242.8</td>\n      <td>252.0</td>\n      <td>264.2</td>\n      <td>275.9</td>\n      <td>281.3</td>\n      <td>296.3</td>\n      <td>307.7</td>\n      <td>315.1</td>\n      <td>309.7</td>\n      <td>303.6</td>\n      <td>311.2</td>\n      <td>299.9</td>\n    </tr>\n    <tr>\n      <th>8</th>\n      <td>Tas.</td>\n      <td>50.8</td>\n      <td>54.2</td>\n      <td>52.1</td>\n      <td>54.1</td>\n      <td>59.9</td>\n      <td>58.3</td>\n      <td>55.0</td>\n      <td>62.1</td>\n      <td>60.5</td>\n      <td>64.2</td>\n      <td>59.8</td>\n      <td>61.0</td>\n      <td>59.2</td>\n      <td>57.5</td>\n      <td>58.9</td>\n      <td>60.7</td>\n      <td>61.8</td>\n    </tr>\n    <tr>\n      <th>9</th>\n      <td>NT</td>\n      <td>14.2</td>\n      <td>16.2</td>\n      <td>19.7</td>\n      <td>12.8</td>\n      <td>17.8</td>\n      <td>22.6</td>\n      <td>26.6</td>\n      <td>19.5</td>\n      <td>22.6</td>\n      <td>25.2</td>\n      <td>28.6</td>\n      <td>30.6</td>\n      <td>29.2</td>\n      <td>28.4</td>\n      <td>26.1</td>\n      <td>23.7</td>\n      <td>26.0</td>\n    </tr>\n    <tr>\n      <th>10</th>\n      <td>ACT</td>\n      <td>48.5</td>\n      <td>52.7</td>\n      <td>47.1</td>\n      <td>51.8</td>\n      <td>50.9</td>\n      <td>54.7</td>\n      <td>58.1</td>\n      <td>56.8</td>\n      <td>57.2</td>\n      <td>56.5</td>\n      <td>64.7</td>\n      <td>59.3</td>\n      <td>62.6</td>\n      <td>63.2</td>\n      <td>71.4</td>\n      <td>61.7</td>\n      <td>59.1</td>\n    </tr>\n  </tbody>\n</table>\n</div>"
     },
     "metadata": {},
     "execution_count": 44
    }
   ],
   "source": [
    "# Rename region column\n",
    "enrolment_df = enrolment_df.rename(columns={'Unnamed: 0':'Region'})\n",
    "enrolment_df"
   ]
  },
  {
   "cell_type": "code",
   "execution_count": 45,
   "metadata": {},
   "outputs": [
    {
     "output_type": "execute_result",
     "data": {
      "text/plain": [
       "   Region   2004   2005   2006   2007   2008   2009   2010   2011   2012  \\\n",
       "3     NSW  777.7  784.4  784.4  785.6  800.5  862.1  926.8  946.0  952.2   \n",
       "4     VIC    626  591.2  575.7  606.2    661  669.1  723.4  731.3  726.5   \n",
       "5     QLD  429.3  436.6    429  462.8    479    479  515.2  538.3  520.3   \n",
       "6      SA    162  170.5  166.2  175.1  184.2    183  198.0  202.5  205.6   \n",
       "7      WA  224.7  213.1  204.9  223.7  213.8  242.8  252.0  264.2  275.9   \n",
       "8     TAS   50.8   54.2   52.1   54.1   59.9   58.3   55.0   62.1   60.5   \n",
       "9      NT   14.2   16.2   19.7   12.8   17.8   22.6   26.6   19.5   22.6   \n",
       "10    ACT   48.5   52.7   47.1   51.8   50.9   54.7   58.1   56.8   57.2   \n",
       "\n",
       "     2013   2014   2015    2016   2017   2018    2019    2020  \n",
       "3   938.3  959.2  936.9  1000.1  976.6  983.1  1021.9  1029.7  \n",
       "4   741.2  759.2  807.1   797.8  786.8  842.8   875.4   849.5  \n",
       "5   567.6  545.1  568.2   601.5  571.7  580.9   594.8   604.7  \n",
       "6   221.7  216.1  227.1   220.0  208.7  212.6   207.8   194.9  \n",
       "7   281.3  296.3  307.7   315.1  309.7  303.6   311.2   299.9  \n",
       "8    64.2   59.8   61.0    59.2   57.5   58.9    60.7    61.8  \n",
       "9    25.2   28.6   30.6    29.2   28.4   26.1    23.7    26.0  \n",
       "10   56.5   64.7   59.3    62.6   63.2   71.4    61.7    59.1  "
      ],
      "text/html": "<div>\n<style scoped>\n    .dataframe tbody tr th:only-of-type {\n        vertical-align: middle;\n    }\n\n    .dataframe tbody tr th {\n        vertical-align: top;\n    }\n\n    .dataframe thead th {\n        text-align: right;\n    }\n</style>\n<table border=\"1\" class=\"dataframe\">\n  <thead>\n    <tr style=\"text-align: right;\">\n      <th></th>\n      <th>Region</th>\n      <th>2004</th>\n      <th>2005</th>\n      <th>2006</th>\n      <th>2007</th>\n      <th>2008</th>\n      <th>2009</th>\n      <th>2010</th>\n      <th>2011</th>\n      <th>2012</th>\n      <th>2013</th>\n      <th>2014</th>\n      <th>2015</th>\n      <th>2016</th>\n      <th>2017</th>\n      <th>2018</th>\n      <th>2019</th>\n      <th>2020</th>\n    </tr>\n  </thead>\n  <tbody>\n    <tr>\n      <th>3</th>\n      <td>NSW</td>\n      <td>777.7</td>\n      <td>784.4</td>\n      <td>784.4</td>\n      <td>785.6</td>\n      <td>800.5</td>\n      <td>862.1</td>\n      <td>926.8</td>\n      <td>946.0</td>\n      <td>952.2</td>\n      <td>938.3</td>\n      <td>959.2</td>\n      <td>936.9</td>\n      <td>1000.1</td>\n      <td>976.6</td>\n      <td>983.1</td>\n      <td>1021.9</td>\n      <td>1029.7</td>\n    </tr>\n    <tr>\n      <th>4</th>\n      <td>VIC</td>\n      <td>626</td>\n      <td>591.2</td>\n      <td>575.7</td>\n      <td>606.2</td>\n      <td>661</td>\n      <td>669.1</td>\n      <td>723.4</td>\n      <td>731.3</td>\n      <td>726.5</td>\n      <td>741.2</td>\n      <td>759.2</td>\n      <td>807.1</td>\n      <td>797.8</td>\n      <td>786.8</td>\n      <td>842.8</td>\n      <td>875.4</td>\n      <td>849.5</td>\n    </tr>\n    <tr>\n      <th>5</th>\n      <td>QLD</td>\n      <td>429.3</td>\n      <td>436.6</td>\n      <td>429</td>\n      <td>462.8</td>\n      <td>479</td>\n      <td>479</td>\n      <td>515.2</td>\n      <td>538.3</td>\n      <td>520.3</td>\n      <td>567.6</td>\n      <td>545.1</td>\n      <td>568.2</td>\n      <td>601.5</td>\n      <td>571.7</td>\n      <td>580.9</td>\n      <td>594.8</td>\n      <td>604.7</td>\n    </tr>\n    <tr>\n      <th>6</th>\n      <td>SA</td>\n      <td>162</td>\n      <td>170.5</td>\n      <td>166.2</td>\n      <td>175.1</td>\n      <td>184.2</td>\n      <td>183</td>\n      <td>198.0</td>\n      <td>202.5</td>\n      <td>205.6</td>\n      <td>221.7</td>\n      <td>216.1</td>\n      <td>227.1</td>\n      <td>220.0</td>\n      <td>208.7</td>\n      <td>212.6</td>\n      <td>207.8</td>\n      <td>194.9</td>\n    </tr>\n    <tr>\n      <th>7</th>\n      <td>WA</td>\n      <td>224.7</td>\n      <td>213.1</td>\n      <td>204.9</td>\n      <td>223.7</td>\n      <td>213.8</td>\n      <td>242.8</td>\n      <td>252.0</td>\n      <td>264.2</td>\n      <td>275.9</td>\n      <td>281.3</td>\n      <td>296.3</td>\n      <td>307.7</td>\n      <td>315.1</td>\n      <td>309.7</td>\n      <td>303.6</td>\n      <td>311.2</td>\n      <td>299.9</td>\n    </tr>\n    <tr>\n      <th>8</th>\n      <td>TAS</td>\n      <td>50.8</td>\n      <td>54.2</td>\n      <td>52.1</td>\n      <td>54.1</td>\n      <td>59.9</td>\n      <td>58.3</td>\n      <td>55.0</td>\n      <td>62.1</td>\n      <td>60.5</td>\n      <td>64.2</td>\n      <td>59.8</td>\n      <td>61.0</td>\n      <td>59.2</td>\n      <td>57.5</td>\n      <td>58.9</td>\n      <td>60.7</td>\n      <td>61.8</td>\n    </tr>\n    <tr>\n      <th>9</th>\n      <td>NT</td>\n      <td>14.2</td>\n      <td>16.2</td>\n      <td>19.7</td>\n      <td>12.8</td>\n      <td>17.8</td>\n      <td>22.6</td>\n      <td>26.6</td>\n      <td>19.5</td>\n      <td>22.6</td>\n      <td>25.2</td>\n      <td>28.6</td>\n      <td>30.6</td>\n      <td>29.2</td>\n      <td>28.4</td>\n      <td>26.1</td>\n      <td>23.7</td>\n      <td>26.0</td>\n    </tr>\n    <tr>\n      <th>10</th>\n      <td>ACT</td>\n      <td>48.5</td>\n      <td>52.7</td>\n      <td>47.1</td>\n      <td>51.8</td>\n      <td>50.9</td>\n      <td>54.7</td>\n      <td>58.1</td>\n      <td>56.8</td>\n      <td>57.2</td>\n      <td>56.5</td>\n      <td>64.7</td>\n      <td>59.3</td>\n      <td>62.6</td>\n      <td>63.2</td>\n      <td>71.4</td>\n      <td>61.7</td>\n      <td>59.1</td>\n    </tr>\n  </tbody>\n</table>\n</div>"
     },
     "metadata": {},
     "execution_count": 45
    }
   ],
   "source": [
    "# Rename VIC, QLD and TAS to ensure compatibility with migration data\n",
    "enrolment_df.loc[4,'Region'] = 'VIC'\n",
    "enrolment_df.loc[5,'Region'] = 'QLD'\n",
    "enrolment_df.loc[8,'Region'] = 'TAS'\n",
    "enrolment_df"
   ]
  },
  {
   "cell_type": "code",
   "execution_count": 46,
   "metadata": {},
   "outputs": [
    {
     "output_type": "execute_result",
     "data": {
      "text/plain": [
       "         2004   2005   2006   2007   2008   2009   2010   2011   2012   2013  \\\n",
       "Region                                                                         \n",
       "NSW     777.7  784.4  784.4  785.6  800.5  862.1  926.8  946.0  952.2  938.3   \n",
       "VIC       626  591.2  575.7  606.2    661  669.1  723.4  731.3  726.5  741.2   \n",
       "QLD     429.3  436.6    429  462.8    479    479  515.2  538.3  520.3  567.6   \n",
       "SA        162  170.5  166.2  175.1  184.2    183  198.0  202.5  205.6  221.7   \n",
       "WA      224.7  213.1  204.9  223.7  213.8  242.8  252.0  264.2  275.9  281.3   \n",
       "TAS      50.8   54.2   52.1   54.1   59.9   58.3   55.0   62.1   60.5   64.2   \n",
       "NT       14.2   16.2   19.7   12.8   17.8   22.6   26.6   19.5   22.6   25.2   \n",
       "ACT      48.5   52.7   47.1   51.8   50.9   54.7   58.1   56.8   57.2   56.5   \n",
       "\n",
       "         2014   2015    2016   2017   2018    2019    2020  \n",
       "Region                                                      \n",
       "NSW     959.2  936.9  1000.1  976.6  983.1  1021.9  1029.7  \n",
       "VIC     759.2  807.1   797.8  786.8  842.8   875.4   849.5  \n",
       "QLD     545.1  568.2   601.5  571.7  580.9   594.8   604.7  \n",
       "SA      216.1  227.1   220.0  208.7  212.6   207.8   194.9  \n",
       "WA      296.3  307.7   315.1  309.7  303.6   311.2   299.9  \n",
       "TAS      59.8   61.0    59.2   57.5   58.9    60.7    61.8  \n",
       "NT       28.6   30.6    29.2   28.4   26.1    23.7    26.0  \n",
       "ACT      64.7   59.3    62.6   63.2   71.4    61.7    59.1  "
      ],
      "text/html": "<div>\n<style scoped>\n    .dataframe tbody tr th:only-of-type {\n        vertical-align: middle;\n    }\n\n    .dataframe tbody tr th {\n        vertical-align: top;\n    }\n\n    .dataframe thead th {\n        text-align: right;\n    }\n</style>\n<table border=\"1\" class=\"dataframe\">\n  <thead>\n    <tr style=\"text-align: right;\">\n      <th></th>\n      <th>2004</th>\n      <th>2005</th>\n      <th>2006</th>\n      <th>2007</th>\n      <th>2008</th>\n      <th>2009</th>\n      <th>2010</th>\n      <th>2011</th>\n      <th>2012</th>\n      <th>2013</th>\n      <th>2014</th>\n      <th>2015</th>\n      <th>2016</th>\n      <th>2017</th>\n      <th>2018</th>\n      <th>2019</th>\n      <th>2020</th>\n    </tr>\n    <tr>\n      <th>Region</th>\n      <th></th>\n      <th></th>\n      <th></th>\n      <th></th>\n      <th></th>\n      <th></th>\n      <th></th>\n      <th></th>\n      <th></th>\n      <th></th>\n      <th></th>\n      <th></th>\n      <th></th>\n      <th></th>\n      <th></th>\n      <th></th>\n      <th></th>\n    </tr>\n  </thead>\n  <tbody>\n    <tr>\n      <th>NSW</th>\n      <td>777.7</td>\n      <td>784.4</td>\n      <td>784.4</td>\n      <td>785.6</td>\n      <td>800.5</td>\n      <td>862.1</td>\n      <td>926.8</td>\n      <td>946.0</td>\n      <td>952.2</td>\n      <td>938.3</td>\n      <td>959.2</td>\n      <td>936.9</td>\n      <td>1000.1</td>\n      <td>976.6</td>\n      <td>983.1</td>\n      <td>1021.9</td>\n      <td>1029.7</td>\n    </tr>\n    <tr>\n      <th>VIC</th>\n      <td>626</td>\n      <td>591.2</td>\n      <td>575.7</td>\n      <td>606.2</td>\n      <td>661</td>\n      <td>669.1</td>\n      <td>723.4</td>\n      <td>731.3</td>\n      <td>726.5</td>\n      <td>741.2</td>\n      <td>759.2</td>\n      <td>807.1</td>\n      <td>797.8</td>\n      <td>786.8</td>\n      <td>842.8</td>\n      <td>875.4</td>\n      <td>849.5</td>\n    </tr>\n    <tr>\n      <th>QLD</th>\n      <td>429.3</td>\n      <td>436.6</td>\n      <td>429</td>\n      <td>462.8</td>\n      <td>479</td>\n      <td>479</td>\n      <td>515.2</td>\n      <td>538.3</td>\n      <td>520.3</td>\n      <td>567.6</td>\n      <td>545.1</td>\n      <td>568.2</td>\n      <td>601.5</td>\n      <td>571.7</td>\n      <td>580.9</td>\n      <td>594.8</td>\n      <td>604.7</td>\n    </tr>\n    <tr>\n      <th>SA</th>\n      <td>162</td>\n      <td>170.5</td>\n      <td>166.2</td>\n      <td>175.1</td>\n      <td>184.2</td>\n      <td>183</td>\n      <td>198.0</td>\n      <td>202.5</td>\n      <td>205.6</td>\n      <td>221.7</td>\n      <td>216.1</td>\n      <td>227.1</td>\n      <td>220.0</td>\n      <td>208.7</td>\n      <td>212.6</td>\n      <td>207.8</td>\n      <td>194.9</td>\n    </tr>\n    <tr>\n      <th>WA</th>\n      <td>224.7</td>\n      <td>213.1</td>\n      <td>204.9</td>\n      <td>223.7</td>\n      <td>213.8</td>\n      <td>242.8</td>\n      <td>252.0</td>\n      <td>264.2</td>\n      <td>275.9</td>\n      <td>281.3</td>\n      <td>296.3</td>\n      <td>307.7</td>\n      <td>315.1</td>\n      <td>309.7</td>\n      <td>303.6</td>\n      <td>311.2</td>\n      <td>299.9</td>\n    </tr>\n    <tr>\n      <th>TAS</th>\n      <td>50.8</td>\n      <td>54.2</td>\n      <td>52.1</td>\n      <td>54.1</td>\n      <td>59.9</td>\n      <td>58.3</td>\n      <td>55.0</td>\n      <td>62.1</td>\n      <td>60.5</td>\n      <td>64.2</td>\n      <td>59.8</td>\n      <td>61.0</td>\n      <td>59.2</td>\n      <td>57.5</td>\n      <td>58.9</td>\n      <td>60.7</td>\n      <td>61.8</td>\n    </tr>\n    <tr>\n      <th>NT</th>\n      <td>14.2</td>\n      <td>16.2</td>\n      <td>19.7</td>\n      <td>12.8</td>\n      <td>17.8</td>\n      <td>22.6</td>\n      <td>26.6</td>\n      <td>19.5</td>\n      <td>22.6</td>\n      <td>25.2</td>\n      <td>28.6</td>\n      <td>30.6</td>\n      <td>29.2</td>\n      <td>28.4</td>\n      <td>26.1</td>\n      <td>23.7</td>\n      <td>26.0</td>\n    </tr>\n    <tr>\n      <th>ACT</th>\n      <td>48.5</td>\n      <td>52.7</td>\n      <td>47.1</td>\n      <td>51.8</td>\n      <td>50.9</td>\n      <td>54.7</td>\n      <td>58.1</td>\n      <td>56.8</td>\n      <td>57.2</td>\n      <td>56.5</td>\n      <td>64.7</td>\n      <td>59.3</td>\n      <td>62.6</td>\n      <td>63.2</td>\n      <td>71.4</td>\n      <td>61.7</td>\n      <td>59.1</td>\n    </tr>\n  </tbody>\n</table>\n</div>"
     },
     "metadata": {},
     "execution_count": 46
    }
   ],
   "source": [
    "# Reshape data from wide to long\n",
    "idx = ['Region']\n",
    "\n",
    "multi_indexed_df = enrolment_df.set_index(idx)\n",
    "\n",
    "multi_indexed_df"
   ]
  },
  {
   "cell_type": "code",
   "execution_count": 47,
   "metadata": {},
   "outputs": [],
   "source": [
    "# Stack data\n",
    "stacked_df = multi_indexed_df.stack(dropna=False)"
   ]
  },
  {
   "cell_type": "code",
   "execution_count": 48,
   "metadata": {},
   "outputs": [
    {
     "output_type": "execute_result",
     "data": {
      "text/plain": [
       "Region      \n",
       "NSW     2004    777.7\n",
       "        2005    784.4\n",
       "        2006    784.4\n",
       "        2007    785.6\n",
       "        2008    800.5\n",
       "                ...  \n",
       "ACT     2016     62.6\n",
       "        2017     63.2\n",
       "        2018     71.4\n",
       "        2019     61.7\n",
       "        2020     59.1\n",
       "Length: 136, dtype: object"
      ]
     },
     "metadata": {},
     "execution_count": 48
    }
   ],
   "source": [
    "stacked_df"
   ]
  },
  {
   "cell_type": "code",
   "execution_count": 49,
   "metadata": {},
   "outputs": [],
   "source": [
    "# Reset index to disband the multi-level index\n",
    "final_enrolment_df = stacked_df.reset_index()"
   ]
  },
  {
   "cell_type": "code",
   "execution_count": 50,
   "metadata": {},
   "outputs": [
    {
     "output_type": "execute_result",
     "data": {
      "text/plain": [
       "    Region  level_1      0\n",
       "0      NSW     2004  777.7\n",
       "1      NSW     2005  784.4\n",
       "2      NSW     2006  784.4\n",
       "3      NSW     2007  785.6\n",
       "4      NSW     2008  800.5\n",
       "..     ...      ...    ...\n",
       "131    ACT     2016   62.6\n",
       "132    ACT     2017   63.2\n",
       "133    ACT     2018   71.4\n",
       "134    ACT     2019   61.7\n",
       "135    ACT     2020   59.1\n",
       "\n",
       "[136 rows x 3 columns]"
      ],
      "text/html": "<div>\n<style scoped>\n    .dataframe tbody tr th:only-of-type {\n        vertical-align: middle;\n    }\n\n    .dataframe tbody tr th {\n        vertical-align: top;\n    }\n\n    .dataframe thead th {\n        text-align: right;\n    }\n</style>\n<table border=\"1\" class=\"dataframe\">\n  <thead>\n    <tr style=\"text-align: right;\">\n      <th></th>\n      <th>Region</th>\n      <th>level_1</th>\n      <th>0</th>\n    </tr>\n  </thead>\n  <tbody>\n    <tr>\n      <th>0</th>\n      <td>NSW</td>\n      <td>2004</td>\n      <td>777.7</td>\n    </tr>\n    <tr>\n      <th>1</th>\n      <td>NSW</td>\n      <td>2005</td>\n      <td>784.4</td>\n    </tr>\n    <tr>\n      <th>2</th>\n      <td>NSW</td>\n      <td>2006</td>\n      <td>784.4</td>\n    </tr>\n    <tr>\n      <th>3</th>\n      <td>NSW</td>\n      <td>2007</td>\n      <td>785.6</td>\n    </tr>\n    <tr>\n      <th>4</th>\n      <td>NSW</td>\n      <td>2008</td>\n      <td>800.5</td>\n    </tr>\n    <tr>\n      <th>...</th>\n      <td>...</td>\n      <td>...</td>\n      <td>...</td>\n    </tr>\n    <tr>\n      <th>131</th>\n      <td>ACT</td>\n      <td>2016</td>\n      <td>62.6</td>\n    </tr>\n    <tr>\n      <th>132</th>\n      <td>ACT</td>\n      <td>2017</td>\n      <td>63.2</td>\n    </tr>\n    <tr>\n      <th>133</th>\n      <td>ACT</td>\n      <td>2018</td>\n      <td>71.4</td>\n    </tr>\n    <tr>\n      <th>134</th>\n      <td>ACT</td>\n      <td>2019</td>\n      <td>61.7</td>\n    </tr>\n    <tr>\n      <th>135</th>\n      <td>ACT</td>\n      <td>2020</td>\n      <td>59.1</td>\n    </tr>\n  </tbody>\n</table>\n<p>136 rows × 3 columns</p>\n</div>"
     },
     "metadata": {},
     "execution_count": 50
    }
   ],
   "source": [
    "final_enrolment_df"
   ]
  },
  {
   "cell_type": "code",
   "execution_count": 51,
   "metadata": {},
   "outputs": [
    {
     "output_type": "stream",
     "name": "stdout",
     "text": [
      "<class 'pandas.core.frame.DataFrame'>\nRangeIndex: 136 entries, 0 to 135\nData columns (total 3 columns):\n #   Column   Non-Null Count  Dtype \n---  ------   --------------  ----- \n 0   Region   136 non-null    object\n 1   level_1  136 non-null    int64 \n 2   0        136 non-null    object\ndtypes: int64(1), object(2)\nmemory usage: 3.3+ KB\n"
     ]
    }
   ],
   "source": [
    "final_enrolment_df.info()"
   ]
  },
  {
   "cell_type": "code",
   "execution_count": 52,
   "metadata": {},
   "outputs": [
    {
     "output_type": "execute_result",
     "data": {
      "text/plain": [
       "    Region  Year Num_Enrolled\n",
       "0      NSW  2004        777.7\n",
       "1      NSW  2005        784.4\n",
       "2      NSW  2006        784.4\n",
       "3      NSW  2007        785.6\n",
       "4      NSW  2008        800.5\n",
       "..     ...   ...          ...\n",
       "131    ACT  2016         62.6\n",
       "132    ACT  2017         63.2\n",
       "133    ACT  2018         71.4\n",
       "134    ACT  2019         61.7\n",
       "135    ACT  2020         59.1\n",
       "\n",
       "[136 rows x 3 columns]"
      ],
      "text/html": "<div>\n<style scoped>\n    .dataframe tbody tr th:only-of-type {\n        vertical-align: middle;\n    }\n\n    .dataframe tbody tr th {\n        vertical-align: top;\n    }\n\n    .dataframe thead th {\n        text-align: right;\n    }\n</style>\n<table border=\"1\" class=\"dataframe\">\n  <thead>\n    <tr style=\"text-align: right;\">\n      <th></th>\n      <th>Region</th>\n      <th>Year</th>\n      <th>Num_Enrolled</th>\n    </tr>\n  </thead>\n  <tbody>\n    <tr>\n      <th>0</th>\n      <td>NSW</td>\n      <td>2004</td>\n      <td>777.7</td>\n    </tr>\n    <tr>\n      <th>1</th>\n      <td>NSW</td>\n      <td>2005</td>\n      <td>784.4</td>\n    </tr>\n    <tr>\n      <th>2</th>\n      <td>NSW</td>\n      <td>2006</td>\n      <td>784.4</td>\n    </tr>\n    <tr>\n      <th>3</th>\n      <td>NSW</td>\n      <td>2007</td>\n      <td>785.6</td>\n    </tr>\n    <tr>\n      <th>4</th>\n      <td>NSW</td>\n      <td>2008</td>\n      <td>800.5</td>\n    </tr>\n    <tr>\n      <th>...</th>\n      <td>...</td>\n      <td>...</td>\n      <td>...</td>\n    </tr>\n    <tr>\n      <th>131</th>\n      <td>ACT</td>\n      <td>2016</td>\n      <td>62.6</td>\n    </tr>\n    <tr>\n      <th>132</th>\n      <td>ACT</td>\n      <td>2017</td>\n      <td>63.2</td>\n    </tr>\n    <tr>\n      <th>133</th>\n      <td>ACT</td>\n      <td>2018</td>\n      <td>71.4</td>\n    </tr>\n    <tr>\n      <th>134</th>\n      <td>ACT</td>\n      <td>2019</td>\n      <td>61.7</td>\n    </tr>\n    <tr>\n      <th>135</th>\n      <td>ACT</td>\n      <td>2020</td>\n      <td>59.1</td>\n    </tr>\n  </tbody>\n</table>\n<p>136 rows × 3 columns</p>\n</div>"
     },
     "metadata": {},
     "execution_count": 52
    }
   ],
   "source": [
    "# Rename columns\n",
    "final_enrolment_df = final_enrolment_df.rename(columns={'level_1':'Year',0:'Num_Enrolled'})\n",
    "final_enrolment_df"
   ]
  },
  {
   "cell_type": "code",
   "execution_count": 53,
   "metadata": {},
   "outputs": [],
   "source": [
    "# Change Num_Enrolled column from object to numeric\n",
    "final_enrolment_df['Num_Enrolled'] = final_enrolment_df['Num_Enrolled'].apply(lambda x: pd.to_numeric(x))"
   ]
  },
  {
   "cell_type": "code",
   "execution_count": 54,
   "metadata": {},
   "outputs": [
    {
     "output_type": "execute_result",
     "data": {
      "text/plain": [
       "    Region  Year  Num_Enrolled\n",
       "0      NSW  2004      777700.0\n",
       "1      NSW  2005      784400.0\n",
       "2      NSW  2006      784400.0\n",
       "3      NSW  2007      785600.0\n",
       "4      NSW  2008      800500.0\n",
       "..     ...   ...           ...\n",
       "131    ACT  2016       62600.0\n",
       "132    ACT  2017       63200.0\n",
       "133    ACT  2018       71400.0\n",
       "134    ACT  2019       61700.0\n",
       "135    ACT  2020       59100.0\n",
       "\n",
       "[136 rows x 3 columns]"
      ],
      "text/html": "<div>\n<style scoped>\n    .dataframe tbody tr th:only-of-type {\n        vertical-align: middle;\n    }\n\n    .dataframe tbody tr th {\n        vertical-align: top;\n    }\n\n    .dataframe thead th {\n        text-align: right;\n    }\n</style>\n<table border=\"1\" class=\"dataframe\">\n  <thead>\n    <tr style=\"text-align: right;\">\n      <th></th>\n      <th>Region</th>\n      <th>Year</th>\n      <th>Num_Enrolled</th>\n    </tr>\n  </thead>\n  <tbody>\n    <tr>\n      <th>0</th>\n      <td>NSW</td>\n      <td>2004</td>\n      <td>777700.0</td>\n    </tr>\n    <tr>\n      <th>1</th>\n      <td>NSW</td>\n      <td>2005</td>\n      <td>784400.0</td>\n    </tr>\n    <tr>\n      <th>2</th>\n      <td>NSW</td>\n      <td>2006</td>\n      <td>784400.0</td>\n    </tr>\n    <tr>\n      <th>3</th>\n      <td>NSW</td>\n      <td>2007</td>\n      <td>785600.0</td>\n    </tr>\n    <tr>\n      <th>4</th>\n      <td>NSW</td>\n      <td>2008</td>\n      <td>800500.0</td>\n    </tr>\n    <tr>\n      <th>...</th>\n      <td>...</td>\n      <td>...</td>\n      <td>...</td>\n    </tr>\n    <tr>\n      <th>131</th>\n      <td>ACT</td>\n      <td>2016</td>\n      <td>62600.0</td>\n    </tr>\n    <tr>\n      <th>132</th>\n      <td>ACT</td>\n      <td>2017</td>\n      <td>63200.0</td>\n    </tr>\n    <tr>\n      <th>133</th>\n      <td>ACT</td>\n      <td>2018</td>\n      <td>71400.0</td>\n    </tr>\n    <tr>\n      <th>134</th>\n      <td>ACT</td>\n      <td>2019</td>\n      <td>61700.0</td>\n    </tr>\n    <tr>\n      <th>135</th>\n      <td>ACT</td>\n      <td>2020</td>\n      <td>59100.0</td>\n    </tr>\n  </tbody>\n</table>\n<p>136 rows × 3 columns</p>\n</div>"
     },
     "metadata": {},
     "execution_count": 54
    }
   ],
   "source": [
    "# Transform data in Num_Enrolled column to reflect actual total (as current format was shortened ['000s])\n",
    "final_enrolment_df['Num_Enrolled'] = final_enrolment_df['Num_Enrolled'].apply(lambda x: x*1000)\n",
    "final_enrolment_df"
   ]
  },
  {
   "cell_type": "code",
   "execution_count": 55,
   "metadata": {},
   "outputs": [
    {
     "output_type": "execute_result",
     "data": {
      "text/plain": [
       "array(['NSW', 'VIC', 'QLD', 'SA', 'WA', 'TAS', 'NT', 'ACT'], dtype=object)"
      ]
     },
     "metadata": {},
     "execution_count": 55
    }
   ],
   "source": [
    "final_enrolment_df['Region'].unique()"
   ]
  }
 ]
}